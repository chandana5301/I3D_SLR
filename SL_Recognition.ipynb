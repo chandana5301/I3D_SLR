{
 "cells": [
  {
   "cell_type": "code",
   "execution_count": 1,
   "metadata": {},
   "outputs": [
    {
     "name": "stdout",
     "output_type": "stream",
     "text": [
      "{'word': 'data'} preprocess/nslt_2000.json\n"
     ]
    }
   ],
   "source": [
    "from configs import Config\n",
    "mode = 'rgb'\n",
    "\n",
    "## Directory where the final videos are\n",
    "root = {'word': 'data'}\n",
    "\n",
    "save_model = 'checkpoints/'\n",
    "\n",
    "## Describes how the training and testing data is split\n",
    "train_split = 'preprocess/nslt_2000.json'\n",
    "\n",
    "## Pretrained weights - comes from Kinetics dataset\n",
    "# https://arxiv.org/pdf/1705.07750v1.pdf\n",
    "weights = 'archived/asl2000/FINAL_nslt_2000_iters=5104_top1=32.48_top5=57.31_top10=66.31.pt'\n",
    "\n",
    "## Configuration for training\n",
    "config_file = 'configfiles/asl2000.ini'\n",
    "configs = Config(config_file)\n",
    "print(root, train_split)"
   ]
  },
  {
   "cell_type": "code",
   "execution_count": 2,
   "metadata": {},
   "outputs": [],
   "source": [
    "from torchvision import transforms\n",
    "import videotransforms\n",
    "import numpy as np\n",
    "from datasets.nslt_dataset import NSLT as Dataset\n",
    "\n",
    "train_transforms = transforms.Compose([videotransforms.RandomCrop(224),\n",
    "                                       videotransforms.RandomHorizontalFlip()])\n",
    "test_transforms = transforms.Compose([videotransforms.CenterCrop(224)])"
   ]
  },
  {
   "cell_type": "code",
   "execution_count": null,
   "metadata": {},
   "outputs": [],
   "source": [
    "dataset = Dataset(train_split, 'train', root, mode, train_transforms)"
   ]
  },
  {
   "cell_type": "code",
   "execution_count": null,
   "metadata": {
    "scrolled": true
   },
   "outputs": [],
   "source": [
    "val_dataset = Dataset(train_split, 'test', root, mode, test_transforms)"
   ]
  },
  {
   "cell_type": "code",
   "execution_count": null,
   "metadata": {},
   "outputs": [],
   "source": [
    "datasets = {'train': dataset, 'test': val_dataset}"
   ]
  },
  {
   "cell_type": "code",
   "execution_count": null,
   "metadata": {},
   "outputs": [],
   "source": [
    "#import pickle\n",
    "#with open('datasets.pkl', 'wb') as f:\n",
    "    #pickle.dump(datasets, f)"
   ]
  },
  {
   "cell_type": "code",
   "execution_count": 3,
   "metadata": {},
   "outputs": [],
   "source": [
    "import pickle\n",
    "with open('datasets.pkl', 'rb') as f:\n",
    "    datasets = pickle.load(f)"
   ]
  },
  {
   "cell_type": "code",
   "execution_count": 5,
   "metadata": {},
   "outputs": [],
   "source": [
    "from train import *"
   ]
  },
  {
   "cell_type": "markdown",
   "metadata": {},
   "source": [
    "device = torch.device('cuda') if torch.cuda.is_available() else torch.device('cpu')\n",
    "if weights:\n",
    "    print('loading weights {}'.format(weights))\n",
    "    i3d.load_state_dict(torch.load(weights,map_location=torch.device('cpu')))"
   ]
  },
  {
   "cell_type": "code",
   "execution_count": null,
   "metadata": {},
   "outputs": [
    {
     "name": "stdout",
     "output_type": "stream",
     "text": [
      "bs=6_ups=1_lr=0.0001_eps=0.001_wd=1e-08\n",
      "Loading in datasets...\n",
      "loading weights archived/asl2000/FINAL_nslt_2000_iters=5104_top1=32.48_top5=57.31_top10=66.31.pt\n",
      "Step 0/64000\n",
      "----------\n"
     ]
    }
   ],
   "source": [
    "run(configs=configs, mode=mode, root=root, save_model=save_model, train_split=train_split, weights=weights, datasets=datasets)"
   ]
  },
  {
   "cell_type": "code",
   "execution_count": null,
   "metadata": {},
   "outputs": [],
   "source": []
  }
 ],
 "metadata": {
  "kernelspec": {
   "display_name": "Python 3",
   "language": "python",
   "name": "python3"
  },
  "language_info": {
   "codemirror_mode": {
    "name": "ipython",
    "version": 3
   },
   "file_extension": ".py",
   "mimetype": "text/x-python",
   "name": "python",
   "nbconvert_exporter": "python",
   "pygments_lexer": "ipython3",
   "version": "3.7.3"
  }
 },
 "nbformat": 4,
 "nbformat_minor": 2
}
